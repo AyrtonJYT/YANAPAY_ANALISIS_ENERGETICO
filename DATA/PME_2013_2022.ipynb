{
  "nbformat": 4,
  "nbformat_minor": 0,
  "metadata": {
    "colab": {
      "provenance": [],
      "authorship_tag": "ABX9TyOKRmBRZHQ/wsmqIr7/6Xvq",
      "include_colab_link": true
    },
    "kernelspec": {
      "name": "python3",
      "display_name": "Python 3"
    },
    "language_info": {
      "name": "python"
    }
  },
  "cells": [
    {
      "cell_type": "markdown",
      "metadata": {
        "id": "view-in-github",
        "colab_type": "text"
      },
      "source": [
        "<a href=\"https://colab.research.google.com/github/AyrtonJYT/YANAPAY_ANALISIS_ENERGETICO/blob/main/DATA/PME_2013_2022.ipynb\" target=\"_parent\"><img src=\"https://colab.research.google.com/assets/colab-badge.svg\" alt=\"Open In Colab\"/></a>"
      ]
    },
    {
      "cell_type": "markdown",
      "source": [
        "#2013-2022"
      ],
      "metadata": {
        "id": "-EtwUvIaanuD"
      }
    },
    {
      "cell_type": "code",
      "source": [
        "import pandas as pd\n",
        "import matplotlib.pyplot as plt"
      ],
      "metadata": {
        "id": "g4PeIApWefWv"
      },
      "execution_count": null,
      "outputs": []
    },
    {
      "cell_type": "markdown",
      "source": [
        "#TABLA 4.16"
      ],
      "metadata": {
        "id": "KFkYwNahanq5"
      }
    },
    {
      "cell_type": "code",
      "source": [
        "# # 1. Datos extraídos de la tabla de Ventas Totales (GWh)\n",
        "# data = {\n",
        "#     'Empresa': [\n",
        "#         'CNEL-Bolívar', 'CNEL-El Oro', 'CNEL-Esmeraldas', 'CNEL-Guayas Los Ríos', 'CNEL-Los Ríos',\n",
        "#         'CNEL-Manabí', 'CNEL-Milagro', 'CNEL-Sta. Elena', 'CNEL-Sto. Domingo', 'CNEL-Sucumbíos',\n",
        "#         'Total CNEL', 'Crec. CNEL (%)', 'E.E. Ambato', 'Crec. Ambato (%)', 'E.E. Azogues',\n",
        "#         'Crec. Azogues (%)', 'E.E. Centro Sur', 'Crec. Centro Sur (%)', 'E.E. Cotopaxi',\n",
        "#         'Crec. Cotopaxi (%)', 'E.E. Norte', 'Crec. Norte (%)', 'E.E. Quito', 'Crec. Quito (%)',\n",
        "#         'E.E. Riobamba', 'Crec. Riobamba (%)', 'E.E. Sur', 'Crec. Sur (%)', 'Eléctrica de Guayaquil',\n",
        "#         'Crec. Guayaquil (%)', 'E.E. Galápagos', 'Crec. Galápagos (%)', 'Total E.E.s', 'Total'\n",
        "#     ],\n",
        "#     '2013': [\n",
        "#         66, 706, 400, 1387, 280, 1178, 542, 435, 440, 201, 5634, 7.33, 516, 4.61, 102, 4.28,\n",
        "#         867, 4.52, 473, 5.04, 532, 5.34, 3949, 4.57, 279, 5.08, 269, 4.07, 4711, 5.86, 37,\n",
        "#         5.83, 11736, 17370\n",
        "#     ],\n",
        "#     '2014': [\n",
        "#         68, 752, 431, 1494, 301, 1264, 580, 467, 462, 220, 6040, 7.19, 539, 4.53, 106, 4.19,\n",
        "#         906, 4.44, 498, 5.23, 563, 5.79, 4133, 4.64, 291, 4.36, 280, 4.03, 4981, 5.73, 39,\n",
        "#         5.29, 12336, 18375\n",
        "#     ],\n",
        "#     '2015': [\n",
        "#         70, 799, 462, 1605, 322, 1353, 620, 492, 485, 240, 6447, 6.75, 562, 4.34, 110, 4.03,\n",
        "#         945, 4.27, 522, 4.69, 585, 4.06, 4317, 4.47, 303, 3.85, 291, 3.85, 5256, 5.53, 41,\n",
        "#         5.11, 12932, 19379\n",
        "#     ],\n",
        "#     '2016': [\n",
        "#         73, 832, 495, 1699, 344, 1445, 661, 516, 508, 256, 6828, 5.91, 586, 4.16, 115, 3.92,\n",
        "#         984, 4.17, 545, 4.54, 609, 3.97, 4504, 4.34, 314, 3.75, 302, 3.86, 5532, 5.25, 43,\n",
        "#         4.97, 13534, 20362\n",
        "#     ],\n",
        "#     '2017': [\n",
        "#         75, 866, 527, 1784, 367, 1541, 704, 542, 533, 272, 7210, 5.59, 610, 4.09, 119, 3.89,\n",
        "#         1025, 4.14, 570, 4.46, 633, 3.95, 4697, 4.28, 326, 3.71, 314, 3.96, 5769, 4.28, 45,\n",
        "#         4.91, 14106, 21316\n",
        "#     ],\n",
        "#     '2018': [\n",
        "#         78, 901, 551, 1871, 392, 1640, 749, 569, 559, 287, 7596, 5.36, 635, 4.11, 124, 3.91,\n",
        "#         1068, 4.17, 595, 4.48, 658, 3.98, 4898, 4.28, 338, 3.74, 326, 3.96, 6016, 4.29, 48,\n",
        "#         4.92, 14705, 22301\n",
        "#     ],\n",
        "#     '2019': [\n",
        "#         81, 938, 575, 1963, 418, 1731, 782, 597, 586, 303, 7974, 4.97, 661, 4.14, 129, 3.97,\n",
        "#         1112, 4.19, 622, 4.51, 684, 4.00, 5108, 4.28, 350, 3.76, 338, 3.69, 6274, 4.29, 50,\n",
        "#         4.91, 15329, 23303\n",
        "#     ],\n",
        "#     '2020': [\n",
        "#         83, 977, 601, 2060, 445, 1803, 816, 627, 614, 320, 8346, 4.66, 688, 4.15, 134, 4.01,\n",
        "#         1159, 4.22, 650, 4.50, 711, 3.99, 5327, 4.29, 364, 3.77, 350, 3.50, 6544, 4.30, 52,\n",
        "#         4.88, 15980, 24325\n",
        "#     ],\n",
        "#     '2021': [\n",
        "#         86, 1017, 627, 2160, 464, 1878, 852, 658, 643, 338, 8724, 4.54, 717, 4.15, 139, 4.02,\n",
        "#         1209, 4.24, 679, 4.47, 740, 3.98, 5556, 4.30, 377, 3.78, 362, 3.49, 6826, 4.30, 55,\n",
        "#         4.87, 16659, 25384\n",
        "#     ],\n",
        "#     '2022': [\n",
        "#         89, 1061, 656, 2269, 485, 1960, 892, 692, 675, 357, 9136, 4.72, 748, 4.35, 145, 4.27,\n",
        "#         1262, 4.44, 711, 4.71, 771, 4.19, 5808, 4.53, 393, 4.00, 376, 3.65, 7136, 4.55, 58,\n",
        "#         5.07, 17406, 26542\n",
        "#     ]\n",
        "# }\n",
        "\n",
        "# df = pd.DataFrame(data)\n",
        "\n",
        "# df_ventas = df[~df['Empresa'].str.contains(r'Crec. \\(%\\)')]\n",
        "# df_crecimiento = df[df['Empresa'].str.contains(r'Crec. \\(%\\)')]\n",
        "# # Limpiar los nombres de las columnas para la conversión a numérico\n",
        "# cols_años = [str(año) for año in range(2013, 2023)]\n",
        "\n",
        "# # Convertir las columnas de años a tipo numérico en ambos DataFrames\n",
        "# for col in cols_años:\n",
        "#     df_ventas[col] = pd.to_numeric(df_ventas[col], errors='coerce')\n",
        "#     df_crecimiento[col] = pd.to_numeric(df_crecimiento[col], errors='coerce')\n",
        "\n",
        "# # Renombrar las columnas de Ventas para incluir la unidad\n",
        "# df_ventas = df_ventas.rename(columns={col: f'{col} (GWh)' for col in cols_años})\n",
        "\n",
        "# print(\"DataFrame de Ventas Totales (GWh):\")\n",
        "# print(df_ventas[df_ventas['Empresa'].isin(['CNEL-Bolívar', 'Total CNEL', 'E.E. Quito', 'Total'])].to_markdown(index=False))"
      ],
      "metadata": {
        "id": "W_Ja_TDsednU"
      },
      "execution_count": null,
      "outputs": []
    },
    {
      "cell_type": "markdown",
      "source": [
        "#TABLA 5.19"
      ],
      "metadata": {
        "id": "PSsWBP0jann3"
      }
    },
    {
      "cell_type": "code",
      "source": [
        "\n",
        "# Datos de la métrica de desempeño (asumido como Porcentaje de Pérdidas)\n",
        "data_metricas = {\n",
        "    'Empresa': [\n",
        "        'CNEL Manabí', 'CNEL Los Ríos', 'CNEL Esmeraldas', 'CNEL Milagro',\n",
        "        'CNEL Guayas Los Ríos', 'CNEL Sucumbíos', 'CNEL El Oro', 'CNEL Bolívar',\n",
        "        'CNEL Sta. Elena', 'CNEL Sto. Domingo', 'Electricidad',\n",
        "        'Eléctrica de Guayaquil', 'E.E. Riobamba', 'E.E. Sur', 'E.E. Norte',\n",
        "        'E.E. Galápagos', 'E.E. Ambato', 'E.E. Cotopaxi', 'E.E. Quito',\n",
        "        'E.E. Centro Sur', 'E.E. Azogues', 'Promedio', 'Desv. Est.'\n",
        "    ],\n",
        "    '1999 (%)': [\n",
        "        28.90, 25.87, 18.42, 29.07, 27.48, 28.10, 22.88, 22.10, 17.44, 18.94,\n",
        "        25.23, 23.88, 12.77, 15.68, 15.33, 11.69, 15.36, 12.44, 16.63, 7.11,\n",
        "        9.95, 18.87, 20.83\n",
        "    ],\n",
        "    '2000 (%)': [\n",
        "        30.25, 22.85, 22.14, 25.42, 32.18, 32.00, 27.31, 18.94, 22.13, 23.83,\n",
        "        27.54, 24.41, 16.27, 17.39, 18.45, 11.08, 14.66, 14.70, 16.44, 8.22,\n",
        "        12.66, 19.94, 21.89\n",
        "    ],\n",
        "    '2001 (%)': [\n",
        "        27.33, 25.87, 27.15, 34.84, 33.81, 32.53, 25.68, 16.83, 24.97, 24.84,\n",
        "        28.95, 24.71, 18.31, 15.02, 19.63, 11.35, 13.21, 16.20, 16.01, 11.39,\n",
        "        7.41, 19.32, 22.31\n",
        "    ],\n",
        "    '2002 (%)': [\n",
        "        28.99, 25.56, 26.45, 33.59, 28.39, 35.62, 25.74, 24.17, 25.09, 19.22,\n",
        "        30.32, 25.39, 17.38, 15.22, 17.34, 11.09, 14.97, 15.05, 15.04, 9.11,\n",
        "        7.38, 19.09, 22.51\n",
        "    ],\n",
        "    '2003 (%)': [\n",
        "        33.03, 28.45, 28.72, 34.96, 39.90, 37.57, 28.34, 22.76, 27.60, 20.67,\n",
        "        32.11, 24.27, 18.54, 14.67, 17.42, 10.39, 14.99, 18.42, 15.30, 8.18,\n",
        "        6.97, 18.74, 22.89\n",
        "    ],\n",
        "    '2004 (%)': [\n",
        "        35.24, 27.82, 29.67, 33.59, 36.23, 35.81, 29.75, 22.32, 30.55, 19.56,\n",
        "        32.48, 24.49, 16.67, 14.45, 16.19, 8.09, 16.00, 15.07, 15.27, 8.24,\n",
        "        7.58, 18.64, 23.01\n",
        "    ],\n",
        "    '2005 (%)': [\n",
        "        36.24, 30.27, 30.42, 34.42, 35.38, 38.07, 30.35, 18.34, 28.82, 18.46,\n",
        "        33.04, 24.91, 16.04, 13.86, 14.58, 7.84, 13.76, 12.28, 13.24, 9.42,\n",
        "        6.05, 17.94, 22.76\n",
        "    ],\n",
        "    '2006 (%)': [\n",
        "        39.53, 29.40, 32.17, 33.65, 34.92, 35.07, 29.05, 19.65, 23.73, 17.45,\n",
        "        32.67, 25.13, 16.51, 13.56, 13.91, 9.66, 13.59, 12.11, 11.12, 8.89,\n",
        "        5.01, 17.27, 22.25\n",
        "    ],\n",
        "    '2007 (%)': [\n",
        "        41.19, 33.12, 32.10, 32.63, 36.38, 40.30, 26.15, 20.84, 21.22, 17.36,\n",
        "        32.75, 23.09, 15.28, 12.80, 12.77, 5.38, 11.80, 12.18, 9.93, 9.44,\n",
        "        5.18, 15.82, 21.42\n",
        "    ],\n",
        "    '2008 (%)': [\n",
        "        41.24, 26.38, 29.13, 29.76, 32.78, 34.54, 22.91, 19.61, 19.60, 15.83,\n",
        "        30.15, 21.10, 14.98, 12.32, 11.30, 7.09, 10.45, 10.62, 9.14, 6.75,\n",
        "        5.44, 14.33, 19.61\n",
        "    ],\n",
        "    '2009 (%)': [\n",
        "        40.66, 27.57, 26.95, 27.13, 25.52, 27.11, 20.49, 16.71, 18.04, 13.01,\n",
        "        26.50, 18.65, 14.61, 12.07, 10.74, 7.87, 9.04, 9.39, 7.21, 6.02,\n",
        "        5.21, 12.53, 17.31\n",
        "    ],\n",
        "    '2010 (%)': [\n",
        "        37.24, 30.46, 28.00, 24.80, 22.80, 22.78, 19.05, 16.66, 15.88, 11.25,\n",
        "        24.67, 16.81, 13.17, 12.50, 10.99, 9.13, 8.53, 8.35, 7.91, 7.23,\n",
        "        5.04, 11.99, 16.33\n",
        "    ],\n",
        "    'Máximo Período (%)': [\n",
        "        31.27, 32.19, 23.21, 22.76, 22.37, 20.25, 18.27, 11.96, 17.76, 10.54,\n",
        "        22.95, 14.91, 11.69, 10.49, 9.76, 8.09, 8.30, 7.94, 7.12, 7.05,\n",
        "        5.91, 10.81, 14.83\n",
        "    ]\n",
        "}\n",
        "\n",
        "df_metricas = pd.DataFrame(data_metricas)\n",
        "\n",
        "# Convertir las columnas de años a tipo numérico\n",
        "cols_metricas_años = [col for col in df_metricas.columns if ' (%)' in col]\n",
        "for col in cols_metricas_años:\n",
        "    df_metricas[col] = pd.to_numeric(df_metricas[col], errors='coerce')\n",
        "\n",
        "print(\"DataFrame de Métrica de Desempeño (1999-2010):\")\n",
        "print(df_metricas[df_metricas['Empresa'].isin(['Electricidad', 'Promedio'])].to_markdown(index=False))"
      ],
      "metadata": {
        "colab": {
          "base_uri": "https://localhost:8080/"
        },
        "id": "BEkKQbXOgIqB",
        "outputId": "6871b8f9-6040-47ea-f0f1-f62fb409c182"
      },
      "execution_count": null,
      "outputs": [
        {
          "output_type": "stream",
          "name": "stdout",
          "text": [
            "DataFrame de Métrica de Desempeño (1999-2010):\n",
            "| Empresa      |   1999 (%) |   2000 (%) |   2001 (%) |   2002 (%) |   2003 (%) |   2004 (%) |   2005 (%) |   2006 (%) |   2007 (%) |   2008 (%) |   2009 (%) |   2010 (%) |   Máximo Período (%) |\n",
            "|:-------------|-----------:|-----------:|-----------:|-----------:|-----------:|-----------:|-----------:|-----------:|-----------:|-----------:|-----------:|-----------:|---------------------:|\n",
            "| Electricidad |      25.23 |      27.54 |      28.95 |      30.32 |      32.11 |      32.48 |      33.04 |      32.67 |      32.75 |      30.15 |      26.5  |      24.67 |                22.95 |\n",
            "| Promedio     |      18.87 |      19.94 |      19.32 |      19.09 |      18.74 |      18.64 |      17.94 |      17.27 |      15.82 |      14.33 |      12.53 |      11.99 |                10.81 |\n"
          ]
        }
      ]
    },
    {
      "cell_type": "code",
      "source": [
        "# # 4. Código Python para Plot (Gráfico de Líneas)\n",
        "\n",
        "# # Seleccionamos las series clave para la visualización: 'Electricidad' y 'Promedio'\n",
        "# df_plot = df_metricas[df_metricas['Empresa'].isin(['Electricidad', 'Promedio'])].set_index('Empresa')\n",
        "\n",
        "# # Transponer para que los años sean el índice\n",
        "# df_transposed = df_plot[cols_metricas_años].T\n",
        "\n",
        "# # Limpiar los nombres de las columnas de la unidad ' (%)' para el eje X\n",
        "# df_transposed.index = df_transposed.index.str.replace(' (%)', '', regex=False)\n",
        "\n",
        "# # Generar el gráfico de líneas\n",
        "# plt.figure(figsize=(10, 6))\n",
        "\n",
        "# df_transposed.plot(kind='line', ax=plt.gca(), marker='o', linewidth=2)\n",
        "\n",
        "# # Configurar el gráfico\n",
        "# plt.title('Evolución de la Métrica de Desempeño Sectorial (1999-2010)', fontsize=14)\n",
        "# plt.xlabel('Año', fontsize=12)\n",
        "# plt.ylabel('Valor de la Métrica (%)', fontsize=12)\n",
        "# plt.grid(True, linestyle='--', alpha=0.6)\n",
        "# plt.legend(title='Serie', loc='best')\n",
        "# plt.xticks(rotation=45)\n",
        "# plt.tight_layout()\n",
        "\n",
        "# # Mostrar el gráfico\n",
        "# plt.show()"
      ],
      "metadata": {
        "id": "Nh8twftugInE"
      },
      "execution_count": null,
      "outputs": []
    },
    {
      "cell_type": "markdown",
      "source": [
        "#TABLA  5.20\n"
      ],
      "metadata": {
        "id": "BxCQXzRxanku"
      }
    },
    {
      "cell_type": "code",
      "source": [],
      "metadata": {
        "colab": {
          "base_uri": "https://localhost:8080/"
        },
        "id": "V8g20yvWglIu",
        "outputId": "5e4ba3ba-ba28-473d-ea70-011fb2dc5ace"
      },
      "execution_count": null,
      "outputs": [
        {
          "output_type": "stream",
          "name": "stdout",
          "text": [
            "DataFrame de Demanda Mensual de Potencia Máxima (Escenarios H5 en 2022):\n",
            "| Mes   |   Menor 2022 (GW) |   Medio 2022 (GW) |   Mayor 2022 (GW) |\n",
            "|:------|------------------:|------------------:|------------------:|\n",
            "| Ene   |             6.183 |             6.546 |             7.165 |\n",
            "| Feb   |             6.206 |             6.594 |             7.217 |\n",
            "| Mar   |             6.04  |             6.441 |             7.049 |\n",
            "| Abr   |             6.225 |             6.639 |             7.269 |\n",
            "| May   |             6.291 |             6.713 |             7.335 |\n",
            "| Jun   |             6.069 |             6.472 |             7.084 |\n",
            "| Jul   |             5.993 |             6.391 |             6.995 |\n",
            "| Ago   |             5.97  |             6.367 |             6.969 |\n",
            "| Sep   |             6.109 |             6.515 |             7.13  |\n",
            "| Oct   |             6.097 |             6.512 |             7.123 |\n",
            "| Nov   |             6.327 |             6.747 |             7.384 |\n",
            "| Dic   |             6.437 |             6.864 |             7.513 |\n"
          ]
        }
      ]
    },
    {
      "cell_type": "markdown",
      "source": [
        "#TABLA 4.2"
      ],
      "metadata": {
        "id": "wuO8t0Weani4"
      }
    },
    {
      "cell_type": "markdown",
      "source": [
        "#TABLA 2.1"
      ],
      "metadata": {
        "id": "ZpKZtxwJanhy"
      }
    },
    {
      "cell_type": "markdown",
      "source": [
        "#TABLA 5.14"
      ],
      "metadata": {
        "id": "1PlPDONZancm"
      }
    },
    {
      "cell_type": "markdown",
      "source": [
        "#TABLA 5.21"
      ],
      "metadata": {
        "id": "ITMgP03QanZd"
      }
    },
    {
      "cell_type": "markdown",
      "source": [
        "#TABLA 4.12"
      ],
      "metadata": {
        "id": "uRIMoaA2anXX"
      }
    },
    {
      "cell_type": "markdown",
      "source": [
        "#TABLA 4.15\n"
      ],
      "metadata": {
        "id": "_fHOSotoanT5"
      }
    },
    {
      "cell_type": "markdown",
      "source": [
        "#FIG 5.16"
      ],
      "metadata": {
        "id": "kJLIlfYWanRg"
      }
    },
    {
      "cell_type": "markdown",
      "source": [
        "#FIG 4.16"
      ],
      "metadata": {
        "id": "WLZqovHnanOo"
      }
    },
    {
      "cell_type": "markdown",
      "source": [
        "#FIG 2.3"
      ],
      "metadata": {
        "id": "HM650XFIanL4"
      }
    },
    {
      "cell_type": "markdown",
      "source": [
        "#FIG 5.7"
      ],
      "metadata": {
        "id": "sjMwUk-AanId"
      }
    },
    {
      "cell_type": "markdown",
      "source": [
        "#FIG 5.8"
      ],
      "metadata": {
        "id": "6ZUfzwb4anF-"
      }
    },
    {
      "cell_type": "markdown",
      "source": [
        "#FIG 5.2"
      ],
      "metadata": {
        "id": "t51361LuanDv"
      }
    },
    {
      "cell_type": "markdown",
      "source": [
        "#FIG 5.3"
      ],
      "metadata": {
        "id": "hATs0RWianAA"
      }
    },
    {
      "cell_type": "markdown",
      "source": [
        "#FIG 5.4\n",
        "\n"
      ],
      "metadata": {
        "id": "getX43NYam9b"
      }
    },
    {
      "cell_type": "code",
      "execution_count": null,
      "metadata": {
        "id": "8zVQOfK6aTan"
      },
      "outputs": [],
      "source": []
    }
  ]
}