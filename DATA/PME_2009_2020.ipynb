{
  "nbformat": 4,
  "nbformat_minor": 0,
  "metadata": {
    "colab": {
      "provenance": [],
      "authorship_tag": "ABX9TyN1sSKxLA7TgQUPvLFmRH4f",
      "include_colab_link": true
    },
    "kernelspec": {
      "name": "python3",
      "display_name": "Python 3"
    },
    "language_info": {
      "name": "python"
    }
  },
  "cells": [
    {
      "cell_type": "markdown",
      "metadata": {
        "id": "view-in-github",
        "colab_type": "text"
      },
      "source": [
        "<a href=\"https://colab.research.google.com/github/AyrtonJYT/YANAPAY_ANALISIS_ENERGETICO/blob/main/DATA/PME_2009_2020.ipynb\" target=\"_parent\"><img src=\"https://colab.research.google.com/assets/colab-badge.svg\" alt=\"Open In Colab\"/></a>"
      ]
    },
    {
      "cell_type": "markdown",
      "source": [
        "#2009-2020"
      ],
      "metadata": {
        "id": "SBQ9G8Sz5LuJ"
      }
    },
    {
      "cell_type": "code",
      "source": [
        "import pandas as pd\n",
        "import matplotlib.pyplot as plt\n",
        "import numpy as np"
      ],
      "metadata": {
        "id": "b7MqnZ5T7Q-4"
      },
      "execution_count": null,
      "outputs": []
    },
    {
      "cell_type": "markdown",
      "source": [
        "#Tabla 5.11: Proyección de la demanda en bornes de generador"
      ],
      "metadata": {
        "id": "-3NPs5Fv7eiX"
      }
    },
    {
      "cell_type": "code",
      "source": [
        "# # --- Crear el DataFrame (Re-incluido para un bloque ejecutable completo) ---\n",
        "# data = {\n",
        "#     'Año': [2009, 2010, 2011, 2012, 2013, 2014, 2015, 2016, 2017, 2018, 2019, 2020],\n",
        "#     'Potencia_Menor': [2883, 2909, 2933, 3354, 3477, 3601, 3839, 4110, 4371, 4626, 4849, 5037],\n",
        "#     'Potencia_Medio': [2909, 3076, 3304, 3455, 3610, 3768, 4044, 4354, 4658, 4960, 5232, 5473],\n",
        "#     'Potencia_Mayor': [2933, 3121, 3376, 3558, 3746, 3940, 4253, 4605, 4953, 5302, 5625, 5919],\n",
        "#     'Energia_Menor': [16992, 18075, 19539, 20327, 21134, 21944, 23500, 25182, 26808, 28402, 29807, 30996],\n",
        "#     'Energia_Medio': [17148, 18449, 20097, 21076, 22082, 23107, 24897, 26830, 28726, 30611, 32328, 33852],\n",
        "#     'Energia_Mayor': [17319, 18797, 20617, 21783, 22991, 24237, 26265, 28455, 30628, 32812, 34849, 36718]\n",
        "# }\n",
        "# df_proyeccion = pd.DataFrame(data).set_index('Año')\n",
        "# df_proyeccion.columns = ['Potencia Menor (MW)', 'Potencia Medio (MW)', 'Potencia Mayor (MW)', 'Energía Menor (GWh)', 'Energía Medio (GWh)', 'Energía Mayor (GWh)']\n",
        "\n",
        "# # --- Código para generar el Plot ---\n",
        "\n",
        "# # Selecciona solo las columnas de Demanda de Energía para el gráfico\n",
        "# df_plot = df_proyeccion[['Energía Menor (GWh)', 'Energía Medio (GWh)', 'Energía Mayor (GWh)']]\n",
        "\n",
        "# plt.figure(figsize=(10, 6))\n",
        "\n",
        "# # Genera el gráfico de líneas\n",
        "# df_plot.plot(ax=plt.gca())\n",
        "\n",
        "# # Configuración del gráfico\n",
        "# plt.title('Proyección de la Demanda de Energía (GWh) por Escenario', fontsize=14)\n",
        "# plt.xlabel('Año', fontsize=12)\n",
        "# plt.ylabel('Demanda de Energía (GWh)', fontsize=12)\n",
        "# plt.grid(True, linestyle='--', alpha=0.7)\n",
        "# plt.legend(title='Escenario', loc='upper left')\n",
        "# plt.xticks(df_plot.index[::2]) # Muestra etiquetas de año cada dos puntos\n",
        "# plt.tight_layout() # Ajusta el diseño para que no se corten las etiquetas\n",
        "\n",
        "# # Muestra el gráfico\n",
        "# plt.show()"
      ],
      "metadata": {
        "id": "BHHeR4gY7W96"
      },
      "execution_count": null,
      "outputs": []
    },
    {
      "cell_type": "markdown",
      "source": [
        "#Tabla 5.8: Proyección anual de energía y potencia máxima al nivel de barras de subestación de entrega - escenario medio"
      ],
      "metadata": {
        "id": "pQpPU6jE73Vc"
      }
    },
    {
      "cell_type": "code",
      "source": [
        "# # --- Código de creación del DataFrame (Re-incluido para un bloque ejecutable completo) ---\n",
        "# data = {\n",
        "#     'Año': [2009, 2010, 2011, 2012, 2013, 2014, 2015, 2016, 2017, 2018, 2019, 2020],\n",
        "#     'Energia': [16205, 17453, 19032, 19980, 20956, 21952, 23677, 25542, 27376, 29203, 30873, 32363],\n",
        "#     'Potencia': [2751, 2911, 3130, 3276, 3426, 3579, 3844, 4143, 4435, 4727, 4991, 5224]\n",
        "# }\n",
        "# df_proyeccion_medio = pd.DataFrame(data).set_index('Año')\n",
        "# df_proyeccion_medio.columns = ['Energía (GWh)', 'Potencia (MW)']\n",
        "\n",
        "# # --- Código para generar el Plot ---\n",
        "\n",
        "# plt.figure(figsize=(10, 6))\n",
        "\n",
        "# # Subplot para Energía (GWh)\n",
        "# ax1 = plt.gca()\n",
        "# df_proyeccion_medio['Energía (GWh)'].plot(ax=ax1, marker='o', color='tab:blue', label='Energía (GWh)')\n",
        "# ax1.set_ylabel('Energía (GWh)', color='tab:blue')\n",
        "# ax1.tick_params(axis='y', labelcolor='tab:blue')\n",
        "\n",
        "# # Crear un segundo eje Y para Potencia (MW)\n",
        "# ax2 = ax1.twinx()\n",
        "# df_proyeccion_medio['Potencia (MW)'].plot(ax=ax2, marker='s', color='tab:red', linestyle='--', label='Potencia (MW)')\n",
        "# ax2.set_ylabel('Potencia (MW)', color='tab:red')\n",
        "# ax2.tick_params(axis='y', labelcolor='tab:red')\n",
        "\n",
        "# # Configuración del gráfico\n",
        "# plt.title('Proyección Anual de Energía y Potencia Máxima (Escenario Medio)', fontsize=14)\n",
        "# ax1.set_xlabel('Año', fontsize=12)\n",
        "# ax1.grid(True, linestyle='--', alpha=0.7)\n",
        "\n",
        "# # Unir las leyendas de ambos ejes\n",
        "# lines, labels = ax1.get_legend_handles_labels()\n",
        "# lines2, labels2 = ax2.get_legend_handles_labels()\n",
        "# ax2.legend(lines + lines2, labels + labels2, loc='upper left')\n",
        "\n",
        "# # Muestra el gráfico\n",
        "# plt.show()"
      ],
      "metadata": {
        "id": "KLRi86Ns8sYo"
      },
      "execution_count": null,
      "outputs": []
    },
    {
      "cell_type": "markdown",
      "source": [
        "#Tablas 5.12 y 5.13: Curva de carga diaria representativa. Proyección Sin/Con intervención"
      ],
      "metadata": {
        "id": "itlK6f2f74vR"
      }
    },
    {
      "cell_type": "code",
      "source": [
        "# #5.12 CURVA DE CARGA DIARIA REPRESENTATIVA. PROYECCIÓN SIN INTERVENCIÓN\n",
        "# # --- Datos de la curva de carga diaria (Factores de Carga) ---\n",
        "# data_raw = {\n",
        "#     'Hora': ['1:00', '2:00', '3:00', '4:00', '5:00', '6:00', '7:00', '8:00', '9:00', '10:00',\n",
        "#              '11:00', '12:00', '13:00', '14:00', '15:00', '16:00', '17:00', '18:00',\n",
        "#              '19:00', '20:00', '21:00', '22:00', '23:00', '24:00'],\n",
        "#     'Dia Laborable': [0.57, 0.53, 0.52, 0.51, 0.53, 0.58, 0.62, 0.63, 0.68, 0.72, 0.74, 0.75,\n",
        "#                       0.74, 0.74, 0.75, 0.76, 0.76, 0.82, 0.90, 1.00, 0.94, 0.87, 0.76, 0.65],\n",
        "#     'Sabado': [0.58, 0.55, 0.53, 0.52, 0.53, 0.54, 0.54, 0.57, 0.60, 0.63, 0.64, 0.65,\n",
        "#                0.64, 0.64, 0.63, 0.64, 0.64, 0.72, 0.84, 0.91, 0.87, 0.80, 0.72, 0.63],\n",
        "#     'Domingo': [0.58, 0.54, 0.52, 0.50, 0.50, 0.51, 0.51, 0.52, 0.54, 0.55, 0.57, 0.57,\n",
        "#                 0.57, 0.57, 0.57, 0.56, 0.58, 0.68, 0.81, 0.88, 0.85, 0.77, 0.67, 0.57]\n",
        "# }\n",
        "\n",
        "# # 1. Preparar el nuevo índice numérico (1 a 24)\n",
        "# integer_hours = list(range(1, 25))\n",
        "\n",
        "# # 2. Crear el DataFrame usando el nuevo índice numérico\n",
        "# df_curva_carga = pd.DataFrame(data_raw)\n",
        "# df_curva_carga.set_index(pd.Series(integer_hours, name='Hora'), inplace=True)\n",
        "# df_curva_carga = df_curva_carga.drop(columns=['Hora']) # Eliminar la columna de strings original\n",
        "\n",
        "# # Asignación de metadatos (unidades) a los nombres de las columnas\n",
        "# df_curva_carga.columns = ['Día Laborable (FC)', 'Sábado (FC)', 'Domingo (FC)']\n",
        "\n",
        "# # Guardar las etiquetas de hora originales para usarlas en el eje X\n",
        "# original_labels = data_raw['Hora']\n",
        "\n",
        "# # --- Código para generar el Plot ---\n",
        "\n",
        "# plt.figure(figsize=(6, 6))\n",
        "\n",
        "# # Genera el gráfico de líneas (usando el índice numérico)\n",
        "# df_curva_carga.plot(ax=plt.gca())\n",
        "\n",
        "# # Configuración del gráfico\n",
        "# plt.title('Curva de Carga Diaria Representativa (Proyección Sin Intervención)', fontsize=14)\n",
        "# plt.xlabel('Hora', fontsize=12)\n",
        "# plt.ylabel('Factor de Carga (FC)', fontsize=12)\n",
        "# plt.yticks([0.00, 0.20, 0.40, 0.60, 0.80, 1.00, 1.20])\n",
        "# plt.grid(True, linestyle='--', alpha=0.7)\n",
        "# plt.legend(title='Tipo de Día', loc='center right')\n",
        "\n",
        "# # 3. Solución al error: Establecer etiquetas de hora personalizadas en el eje X\n",
        "# # 'ticks' toma las posiciones numéricas (1, 3, 5, ...) del DataFrame.\n",
        "# # 'labels' toma las etiquetas de string correspondientes ('1:00', '3:00', ...)\n",
        "# tick_positions = df_curva_carga.index[::2]\n",
        "# tick_labels = original_labels[::2]\n",
        "# plt.xticks(ticks=tick_positions, labels=tick_labels)\n",
        "\n",
        "# plt.tight_layout()\n",
        "\n",
        "# # Muestra el gráfico\n",
        "# plt.show()"
      ],
      "metadata": {
        "id": "g3AqavmL-4Or"
      },
      "execution_count": null,
      "outputs": []
    },
    {
      "cell_type": "markdown",
      "source": [
        "#Tabla 2.7 y Gráfico 2.10: Distribución mensual de energía que podrían producir las centrales hidroeléctricas más grandes, con hidrología media"
      ],
      "metadata": {
        "id": "FsEiKBw48DQx"
      }
    },
    {
      "cell_type": "code",
      "source": [
        "# import pandas as pd\n",
        "\n",
        "# # Datos de Distribución Mensual de Energía Hidroeléctrica (Tabla 2.7)\n",
        "# data_hidroelectrica = {\n",
        "#     'Mes': [\n",
        "#         'Ene', 'Feb', 'Mar', 'Abr', 'May', 'Jun', 'Jul',\n",
        "#         'Ago', 'Sep', 'Oct', 'Nov', 'Dic'\n",
        "#     ],\n",
        "#     'Agoyán (GWh)': [\n",
        "#         67.80, 78.50, 87.20, 94.60, 97.30, 100.90, 102.70,\n",
        "#         98.70, 90.60, 81.70, 72.70, 70.60\n",
        "#     ],\n",
        "#     'Agoyán (%)': [\n",
        "#         6.50, 7.52, 8.36, 9.07, 9.33, 9.67, 9.84, 9.46,\n",
        "#         8.68, 7.83, 6.97, 6.77\n",
        "#     ],\n",
        "#     'M. Laniado (GWh)': [\n",
        "#         54.00, 62.90, 87.00, 99.10, 71.40, 40.30, 24.50,\n",
        "#         20.60, 19.30, 34.60, 51.30, 78.20\n",
        "#     ],\n",
        "#     'M. Laniado (%)': [\n",
        "#         8.40, 9.78, 13.53, 15.41, 11.10, 6.27, 3.81, 3.20,\n",
        "#         3.00, 5.38, 7.98, 12.16\n",
        "#     ],\n",
        "#     'Paute (GWh)': [\n",
        "#         254.30, 302.10, 394.40, 539.40, 573.90, 641.60, 690.70,\n",
        "#         550.00, 454.20, 402.20, 334.80, 307.30\n",
        "#     ],\n",
        "#     'Paute (%)': [\n",
        "#         4.67, 5.55, 7.24, 9.91, 10.54, 11.78, 12.69, 10.10,\n",
        "#         8.34, 7.39, 6.15, 5.64\n",
        "#     ],\n",
        "#     'Pucará (GWh)': [\n",
        "#         12.10, 11.80, 12.90, 15.40, 20.40, 30.70, 34.10,\n",
        "#         27.80, 21.70, 15.10, 17.60, 25.50\n",
        "#     ],\n",
        "#     'Pucará (%)': [\n",
        "#         4.94, 4.81, 5.26, 6.28, 8.32, 12.53, 13.91, 11.34,\n",
        "#         8.85, 6.16, 7.18, 10.40\n",
        "#     ],\n",
        "#     'San Francisco (GWh)': [\n",
        "#         95.70, 110.00, 121.90, 131.10, 134.40, 138.30, 140.00,\n",
        "#         136.80, 127.20, 116.40, 103.50, 100.10\n",
        "#     ],\n",
        "#     'San Francisco (%)': [\n",
        "#         6.58, 7.56, 8.38, 9.01, 9.23, 9.50, 9.62, 9.40,\n",
        "#         8.74, 8.00, 7.11, 6.88\n",
        "#     ]\n",
        "# }\n",
        "\n",
        "# # Crear el DataFrame y establecer 'Mes' como índice\n",
        "# df_hidro_produccion = pd.DataFrame(data_hidroelectrica)\n",
        "# df_hidro_produccion.set_index('Mes', inplace=True)\n",
        "\n",
        "# # Añadir la fila de Totales (para completar la tabla original)\n",
        "# df_hidro_produccion.loc['Total'] = [\n",
        "#     1043.30, 100.00, 643.20, 100.00, 5444.90, 100.00,\n",
        "#     245.10, 100.00, 1455.40, 100.00\n",
        "# ]\n",
        "\n",
        "# print(\"DataFrame de Distribución Mensual de Energía Hidroeléctrica (GWh y %):\")\n",
        "# print(df_hidro_produccion)"
      ],
      "metadata": {
        "id": "9OT_CYS4KkE2"
      },
      "execution_count": null,
      "outputs": []
    },
    {
      "cell_type": "code",
      "source": [
        "# import pandas as pd\n",
        "# import matplotlib.pyplot as plt\n",
        "\n",
        "# # Datos de Distribución Mensual de Energía Hidroeléctrica (GWh) (Tabla 2.7 / Gráfico 2.10)\n",
        "# data_hidroelectrica_gwh = {\n",
        "#     'Mes': ['Ene', 'Feb', 'Mar', 'Abr', 'May', 'Jun', 'Jul', 'Ago', 'Sep', 'Oct', 'Nov', 'Dic', 'Total'],\n",
        "#     'Agoyán (GWh)': [67.80, 78.50, 87.20, 94.60, 97.30, 100.90, 102.70, 98.70, 90.60, 81.70, 72.70, 70.60, 1043.30],\n",
        "#     'M. Laniado (GWh)': [54.00, 62.90, 87.00, 99.10, 71.40, 40.30, 24.50, 20.60, 19.30, 34.60, 51.30, 78.20, 643.20],\n",
        "#     'Paute (GWh)': [254.30, 302.10, 394.40, 539.40, 573.90, 641.60, 690.70, 550.00, 454.20, 402.20, 334.80, 307.30, 5444.90],\n",
        "#     'Pucará (GWh)': [12.10, 11.80, 12.90, 15.40, 20.40, 30.70, 34.10, 27.80, 21.70, 15.10, 17.60, 25.50, 245.10],\n",
        "#     'San Francisco (GWh)': [95.70, 110.00, 121.90, 131.10, 134.40, 138.30, 140.00, 136.80, 127.20, 116.40, 103.50, 100.10, 1455.40]\n",
        "# }\n",
        "\n",
        "# df_hidroelectrica_gwh = pd.DataFrame(data_hidroelectrica_gwh)\n",
        "# df_hidroelectrica_gwh.set_index('Mes', inplace=True)\n",
        "\n",
        "# # 1. Eliminar la fila 'Total' ya que distorsionaría el gráfico mensual\n",
        "# df_plot = df_hidroelectrica_gwh.drop('Total', axis=0)\n",
        "\n",
        "# # 2. Configuración y Creación del Gráfico\n",
        "# # Se usa df_plot.plot() para generar la gráfica directamente desde el DataFrame\n",
        "# fig, ax = plt.subplots(figsize=(12, 6)) # Define el tamaño de la figura\n",
        "\n",
        "# df_plot.plot(\n",
        "#     kind='line',\n",
        "#     ax=ax,\n",
        "#     marker='o', # Muestra los puntos de datos\n",
        "#     linewidth=2\n",
        "# )\n",
        "\n",
        "# # 3. Personalización del Gráfico\n",
        "# ax.set_title('Distribución Mensual de Energía Hidroeléctrica (GWh) por Central', fontsize=16, pad=20)\n",
        "# ax.set_xlabel('Mes', fontsize=12)\n",
        "# ax.set_ylabel('Generación de Energía (GWh)', fontsize=12)\n",
        "# ax.grid(axis='y', linestyle='--', alpha=0.7) # Añade una cuadrícula suave en el eje Y\n",
        "# ax.legend(title='Central Hidroeléctrica', loc='upper right')\n",
        "# plt.xticks(rotation=45) # Rota las etiquetas del eje X para mejor legibilidad\n",
        "# plt.tight_layout() # Ajusta el diseño para que no se corten las etiquetas\n",
        "\n",
        "# # 4. Mostrar el Gráfico\n",
        "# plt.show()\n"
      ],
      "metadata": {
        "id": "YC7lQgkCKlPc"
      },
      "execution_count": null,
      "outputs": []
    },
    {
      "cell_type": "markdown",
      "source": [
        "#Tabla 5.9: Demanda de la energía mensual requerida al MEM (MWh)"
      ],
      "metadata": {
        "id": "1k8zAnzo8PmC"
      }
    },
    {
      "cell_type": "code",
      "source": [
        "# import pandas as pd\n",
        "# import matplotlib.pyplot as plt\n",
        "\n",
        "# # ----------------------------------------------------------------------\n",
        "# # DataFrame 1: Proyección Anual (GWh)\n",
        "# # ----------------------------------------------------------------------\n",
        "# data_anual = {\n",
        "#     'Año': [2008, 2009, 2010, 2011, 2012, 2013, 2014, 2015, 2016, 2017, 2018, 2019, 2020],\n",
        "#     'Barras - Menor (GWh)': [15461, 16057, 17099, 18504, 19270, 20056, 20847, 22349, 23974, 25548, 27096, 28465, 29633],\n",
        "#     'Barras - Medio (GWh)': [15461, 16205, 17453, 19032, 19980, 20956, 21952, 23677, 25542, 27376, 29203, 30873, 32363],\n",
        "#     'Barras - Mayor (GWh)': [15461, 16367, 17782, 19524, 20650, 21818, 23025, 24978, 27090, 29189, 31302, 33281, 35103],\n",
        "#     'Generación - Menor (GWh)': [16346, 16992, 18075, 19539, 20327, 21134, 21944, 23500, 25182, 26808, 28402, 29807, 30996],\n",
        "#     'Generación - Medio (GWh)': [16346, 17148, 18449, 20097, 21076, 22082, 23107, 24897, 26830, 28726, 30611, 32328, 33852],\n",
        "#     'Generación - Mayor (GWh)': [16346, 17319, 18797, 20617, 21783, 22991, 24237, 26265, 28455, 30628, 32812, 34849, 36718]\n",
        "# }\n",
        "\n",
        "# df_proyeccion_anual = pd.DataFrame(data_anual).set_index('Año')\n",
        "# print(\"DataFrame de Proyección Anual (GWh):\")\n",
        "# print(df_proyeccion_anual.head())\n",
        "\n",
        "# # ----------------------------------------------------------------------\n",
        "# # DataFrame 2: Demanda Mensual (p.u.)\n",
        "# # ----------------------------------------------------------------------\n",
        "# data_mensual = {\n",
        "#     'Mes': ['Ene', 'Feb', 'Mar', 'Abr', 'May', 'Jun', 'Jul', 'Ago', 'Sep', 'Oct', 'Nov', 'Dic'],\n",
        "#     'Demanda (p.u.)': [0.084, 0.076, 0.085, 0.083, 0.086, 0.082, 0.084, 0.083, 0.081, 0.085, 0.083, 0.087]\n",
        "# }\n",
        "\n",
        "# df_demanda_mensual = pd.DataFrame(data_mensual).set_index('Mes')\n",
        "# print(\"\\nDataFrame de Demanda Mensual (p.u.):\")\n",
        "# print(df_demanda_mensual)\n",
        "# # ----------------------------------------------------------------------\n",
        "# # Plot 1: Gráfico de Líneas para Proyección Anual\n",
        "# # ----------------------------------------------------------------------\n",
        "# fig, ax = plt.subplots(figsize=(12, 6))\n",
        "\n",
        "# df_proyeccion_anual.plot(\n",
        "#     kind='line',\n",
        "#     ax=ax,\n",
        "#     linewidth=2,\n",
        "#     marker='o'\n",
        "# )\n",
        "\n",
        "# ax.set_title('Proyección de la Demanda de Energía Eléctrica del SNI (2008-2020)', fontsize=16, pad=20)\n",
        "# ax.set_xlabel('Año', fontsize=12)\n",
        "# ax.set_ylabel('Demanda Proyectada (GWh)', fontsize=12)\n",
        "# ax.grid(axis='y', linestyle='--', alpha=0.7)\n",
        "# ax.legend(title='Escenario', loc='upper left')\n",
        "\n",
        "# plt.xticks(df_proyeccion_anual.index, rotation=45) # Asegura que se muestren todos los años\n",
        "# plt.tight_layout()\n",
        "# plt.show()\n",
        "\n",
        "# # ----------------------------------------------------------------------\n",
        "# # Plot 2: Gráfico de Barras para Demanda Mensual\n",
        "# # ----------------------------------------------------------------------\n",
        "# fig, ax = plt.subplots(figsize=(10, 5))\n",
        "\n",
        "# # Plotear el gráfico de barras directamente desde la columna 'Demanda (p.u.)'\n",
        "# df_demanda_mensual['Demanda (p.u.)'].plot(\n",
        "#     kind='bar',\n",
        "#     ax=ax,\n",
        "#     color='skyblue'\n",
        "# )\n",
        "\n",
        "# ax.set_title('Demanda Mensual de Energía en Bornes de Generación del SNI (p.u.)', fontsize=14, pad=15)\n",
        "# ax.set_xlabel('Mes', fontsize=12)\n",
        "# ax.set_ylabel('Demanda (p.u.)', fontsize=12)\n",
        "# plt.yticks([0.05, 0.06, 0.07, 0.08, 0.09]) # Establece los ticks del eje Y como en la imagen original\n",
        "# plt.ylim(0.05, 0.09) # Establece el límite inferior y superior del eje Y\n",
        "\n",
        "# # Añadir etiquetas de valor encima de las barras (como en la imagen original)\n",
        "# for i, v in enumerate(df_demanda_mensual['Demanda (p.u.)']):\n",
        "#     ax.text(i, v + 0.0005, f'{v:.3f}', color='black', ha='center', fontsize=9)\n",
        "\n",
        "# plt.xticks(rotation=0)\n",
        "# plt.tight_layout()\n",
        "# plt.show()\n",
        "\n"
      ],
      "metadata": {
        "id": "F7_fkKes8tq7"
      },
      "execution_count": null,
      "outputs": []
    },
    {
      "cell_type": "markdown",
      "source": [
        "#Gráfico 5.2: Tasa anual de variación del PIB y de la energía eléctrica"
      ],
      "metadata": {
        "id": "RxjgA9bc8bmz"
      }
    },
    {
      "cell_type": "code",
      "source": [
        "# # --- Código de creación del DataFrame (asumido) ---\n",
        "# data_variacion = {\n",
        "#     'Año': list(range(1990, 2009)),\n",
        "#     'Demanda de Energía Eléctrica (%)': [10.0, 9.5, 3.8, 3.0, 9.5, 3.8, 15.5, 7.0, 4.5, -5.0, 3.5,\n",
        "#      4.15, 6.0, 5.0, 6.5, 5.5, 7.0, 5.0, 4.5],\n",
        "#     'Producto Interno Bruto (%)': [3.8, 4.5, 3.9, 2.0, 4.25, 2.25, 2.0, 3.25, 2.0, -6.0, 3.5, 5, 4.0, 3.5, 8.0, 6.5, 4.0, 2.5, 4.5]\n",
        "# }\n",
        "# df_variacion = pd.DataFrame(data_variacion).set_index('Año')\n",
        "# df_variacion.columns = ['Demanda de Energía Eléctrica (%)', 'Producto Interno Bruto (%)']\n",
        "\n",
        "\n",
        "# # --- Código para generar el Plot ---\n",
        "\n",
        "# plt.figure(figsize=(10, 6))\n",
        "\n",
        "# # Genera el gráfico de líneas\n",
        "# df_variacion.plot(ax=plt.gca(), marker='o', linewidth=2)\n",
        "\n",
        "# # Configuración del gráfico\n",
        "# plt.title('Tasa Anual de Variación del PIB y de la Energía Eléctrica (1990-2008)', fontsize=14)\n",
        "# plt.xlabel('Año', fontsize=12)\n",
        "# plt.ylabel('Tasa de Variación (%)', fontsize=12)\n",
        "# plt.yticks(np.arange(-8, 17, 4)) # Ajusta el eje Y a la escala de la imagen\n",
        "# plt.axhline(0, color='black', linestyle='-', linewidth=0.8) # Línea de base cero\n",
        "# plt.grid(True, axis='y', linestyle='--', alpha=0.7)\n",
        "# plt.legend(loc='upper right')\n",
        "\n",
        "# # Muestra etiquetas del eje X cada 2 años\n",
        "# plt.xticks(df_variacion.index[::2])\n",
        "# plt.tight_layout()\n",
        "\n",
        "# # Muestra el gráfico\n",
        "# plt.show()"
      ],
      "metadata": {
        "id": "_HgtwcZL8uNW"
      },
      "execution_count": null,
      "outputs": []
    },
    {
      "cell_type": "markdown",
      "source": [
        "#\tGráfico 5.4: Variación del porcentaje anual de pérdidas de energía en distribución"
      ],
      "metadata": {
        "id": "bAo3NK5G8eCa"
      }
    },
    {
      "cell_type": "code",
      "source": [
        "\n",
        "# # --- Recreación del DataFrame (para ejecución) ---\n",
        "# data_perdidas = {\n",
        "#     'Año': list(range(1996, 2021)),\n",
        "#     'Porcentaje de Pérdidas de Energía (%)': [\n",
        "#         19.8, 20.2, 20.3, 22.0, 21.8, 21.6, 21.8, 22.2, 22.3, 22.8,\n",
        "#         21.9, 20.4, 19.1, 17.4, 16.0, 14.3, 12.8, 11.8, 10.9, 10.3,\n",
        "#         9.9, 9.2, 8.8, 8.7, 8.5\n",
        "#     ]\n",
        "# }\n",
        "# df_perdidas = pd.DataFrame(data_perdidas).set_index('Año')\n",
        "\n",
        "\n",
        "# # --- Código para generar el Plot ---\n",
        "\n",
        "# plt.figure(figsize=(10, 6))\n",
        "# ax = plt.gca()\n",
        "\n",
        "# # Genera el gráfico de líneas\n",
        "# df_perdidas.plot(ax=ax, marker='o', linewidth=2, color='tab:blue', label='Porcentaje de pérdidas de energía')\n",
        "\n",
        "# # Configuración del gráfico\n",
        "# plt.title('Variación del Porcentaje Anual de Pérdidas de Energía en Distribución', fontsize=14)\n",
        "# plt.xlabel('Año', fontsize=12)\n",
        "# plt.ylabel('[%]', fontsize=12, rotation=0, ha='right')\n",
        "\n",
        "# # Ajuste del eje Y para que coincida con la imagen (8% a 24%)\n",
        "# plt.yticks(np.arange(8, 25, 2), [f'{i}%' for i in np.arange(8, 25, 2)])\n",
        "# plt.ylim(7.5, 24.5)\n",
        "\n",
        "# # Marcar el punto de quiebre (Año 2008)\n",
        "# ax.axvline(x=2008.5, color='deeppink', linestyle='-', linewidth=1.5)\n",
        "\n",
        "# # Añadir etiquetas a puntos clave (Opcional, pero útil para replicar el gráfico)\n",
        "# key_years = [1996, 2005, 2008, 2013, 2016, 2020]\n",
        "# for year in key_years:\n",
        "#     if year in df_perdidas.index:\n",
        "#         value = df_perdidas.loc[year, 'Porcentaje de Pérdidas de Energía (%)']\n",
        "#         # Muestra la etiqueta solo si el año es 2005 o está en el periodo de reducción\n",
        "#         if year >= 2005:\n",
        "#             plt.text(year, value + 0.5, f'{value:.1f}%', fontsize=9, ha='center')\n",
        "\n",
        "# # Configuración de los ticks del eje X\n",
        "# ax.set_xticks(df_perdidas.index[::1])\n",
        "# plt.xticks(rotation=45)\n",
        "\n",
        "# plt.grid(True, axis='y', linestyle='--', alpha=0.7)\n",
        "# plt.legend(loc='center right')\n",
        "# plt.tight_layout()\n",
        "\n",
        "# # Muestra el gráfico\n",
        "# plt.show()"
      ],
      "metadata": {
        "id": "N5dQiZUW8CUM"
      },
      "execution_count": null,
      "outputs": []
    },
    {
      "cell_type": "code",
      "source": [],
      "metadata": {
        "id": "3N3NUyDuIe-M"
      },
      "execution_count": null,
      "outputs": []
    }
  ]
}